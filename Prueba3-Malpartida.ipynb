{
 "cells": [
  {
   "cell_type": "markdown",
   "id": "e5a72c6b",
   "metadata": {},
   "source": [
    "# Función"
   ]
  },
  {
   "cell_type": "code",
   "execution_count": 1,
   "id": "7f0def91",
   "metadata": {},
   "outputs": [],
   "source": [
    "#Programa en python para encontrar el factorial  Python program to find the factorial of a number provided by the user.\n",
    "\n",
    "def factorial(numero):\n",
    "    if numero <= 1:\n",
    "        return 1\n",
    "    return numero * factorial(numero-1)\n"
   ]
  },
  {
   "cell_type": "code",
   "execution_count": 2,
   "id": "e83ef244",
   "metadata": {},
   "outputs": [
    {
     "data": {
      "text/plain": [
       "120"
      ]
     },
     "execution_count": 2,
     "metadata": {},
     "output_type": "execute_result"
    }
   ],
   "source": [
    "factorial(5)"
   ]
  },
  {
   "cell_type": "code",
   "execution_count": 3,
   "id": "008b54e8",
   "metadata": {},
   "outputs": [
    {
     "data": {
      "text/plain": [
       "720"
      ]
     },
     "execution_count": 3,
     "metadata": {},
     "output_type": "execute_result"
    }
   ],
   "source": [
    "factorial(6)"
   ]
  }
 ],
 "metadata": {
  "kernelspec": {
   "display_name": "Python 3 (ipykernel)",
   "language": "python",
   "name": "python3"
  },
  "language_info": {
   "codemirror_mode": {
    "name": "ipython",
    "version": 3
   },
   "file_extension": ".py",
   "mimetype": "text/x-python",
   "name": "python",
   "nbconvert_exporter": "python",
   "pygments_lexer": "ipython3",
   "version": "3.9.12"
  }
 },
 "nbformat": 4,
 "nbformat_minor": 5
}
